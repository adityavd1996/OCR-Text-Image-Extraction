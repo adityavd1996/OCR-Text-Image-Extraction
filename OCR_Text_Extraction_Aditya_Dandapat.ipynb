{
 "cells": [
  {
   "cell_type": "markdown",
   "id": "1def3599-a254-4896-95ab-69707502c7bd",
   "metadata": {},
   "source": [
    "<h3><b>OCR Text Image Extraction from given PNG</b> </h3>\n",
    "<h5> By Aditya Vikram Dandapat </h5>"
   ]
  },
  {
   "cell_type": "markdown",
   "id": "ff4dff6e-b26c-43dd-9a37-f89501d7e8ae",
   "metadata": {},
   "source": [
    "<h4> Importing Quotes and modules</h4>"
   ]
  },
  {
   "cell_type": "code",
   "execution_count": 4,
   "id": "208c47ec-9939-4dbb-a825-1e4952f7e961",
   "metadata": {},
   "outputs": [
    {
     "name": "stdout",
     "output_type": "stream",
     "text": [
      "Collecting opencv-python\n",
      "  Downloading opencv_python-4.5.5.64-cp36-abi3-win_amd64.whl (35.4 MB)\n",
      "Requirement already satisfied: numpy>=1.14.5 in c:\\users\\adity\\anaconda3\\lib\\site-packages (from opencv-python) (1.20.1)\n",
      "Installing collected packages: opencv-python\n",
      "Successfully installed opencv-python-4.5.5.64\n",
      "Collecting pytesseract\n",
      "  Downloading pytesseract-0.3.9-py2.py3-none-any.whl (14 kB)\n",
      "Collecting packaging>=21.3\n",
      "  Downloading packaging-21.3-py3-none-any.whl (40 kB)\n",
      "Requirement already satisfied: Pillow>=8.0.0 in c:\\users\\adity\\anaconda3\\lib\\site-packages (from pytesseract) (8.2.0)\n",
      "Requirement already satisfied: pyparsing!=3.0.5,>=2.0.2 in c:\\users\\adity\\anaconda3\\lib\\site-packages (from packaging>=21.3->pytesseract) (2.4.7)\n",
      "Installing collected packages: packaging, pytesseract\n",
      "  Attempting uninstall: packaging\n",
      "    Found existing installation: packaging 20.9\n",
      "    Uninstalling packaging-20.9:\n",
      "      Successfully uninstalled packaging-20.9\n",
      "Successfully installed packaging-21.3 pytesseract-0.3.9\n",
      "Collecting tesseract\n",
      "  Downloading tesseract-0.1.3.tar.gz (45.6 MB)\n",
      "Building wheels for collected packages: tesseract\n",
      "  Building wheel for tesseract (setup.py): started\n",
      "  Building wheel for tesseract (setup.py): finished with status 'done'\n",
      "  Created wheel for tesseract: filename=tesseract-0.1.3-py3-none-any.whl size=45562569 sha256=276d7ac374955b54c6f0c7a5493cf2c97e905b6c5aabfb1f18433dd19a88de68\n",
      "  Stored in directory: c:\\users\\adity\\appdata\\local\\pip\\cache\\wheels\\7f\\a1\\69\\fabe07004553a36d818e4657fed410daf525fe1ae161f469d3\n",
      "Successfully built tesseract\n",
      "Installing collected packages: tesseract\n",
      "Successfully installed tesseract-0.1.3\n"
     ]
    }
   ],
   "source": [
    "# import modules\n",
    "!pip install opencv-python\n",
    "!pip install pytesseract\n",
    "!pip install tesseract\n"
   ]
  },
  {
   "cell_type": "code",
   "execution_count": 63,
   "id": "02e6be47-256c-423c-baa7-4e3edb715a91",
   "metadata": {},
   "outputs": [],
   "source": [
    "import cv2\n",
    "import pytesseract\n",
    "\n",
    "# read image\n",
    "img = cv2.imread('C:/Users/adity/Downloads/quote1.png')\n",
    "\n",
    "# configurations\n",
    "config = ('-l eng --oem 1 --psm 3')\n",
    "\n",
    "#We need to Install Tesseract OCR in the windows and set the path by the following command->\n",
    "# pytessercat\n",
    "#pytesseract.pytesseract.tesseract_cmd = 'C:/Program Files/Tesseract-OCR/tesseract.exe'"
   ]
  },
  {
   "cell_type": "markdown",
   "id": "24c63c7c-8206-4d6b-bd2e-2a4798bb57c4",
   "metadata": {},
   "source": [
    "<h3> Preprocessing of Image before being passed to OCR or pytesseract library</h3>"
   ]
  },
  {
   "cell_type": "code",
   "execution_count": 64,
   "id": "71714151-846d-4fab-b707-2cef96dc176a",
   "metadata": {},
   "outputs": [],
   "source": [
    "# Convert the image to gray scale image\n",
    "gray = cv2.cvtColor(img, cv2.COLOR_BGR2GRAY) \n",
    "  \n",
    "# OTSU threshold performing\n",
    "ret, threshimg = cv2.threshold(gray, 0, 255, cv2.THRESH_OTSU | cv2.THRESH_BINARY_INV) \n"
   ]
  },
  {
   "cell_type": "code",
   "execution_count": 65,
   "id": "6886f2b5-5dd2-4f7c-b6ed-d0605a6ab35e",
   "metadata": {},
   "outputs": [],
   "source": [
    "#Blurring Image ->\n",
    "#img = cv2.blur(img,(5,5))"
   ]
  },
  {
   "cell_type": "code",
   "execution_count": 66,
   "id": "d1cbcc0d-7fd7-4c32-b253-aab69caa2b57",
   "metadata": {},
   "outputs": [],
   "source": [
    "# Specifying kernel size and structure shape.  \n",
    "rect_kernel = cv2.getStructuringElement(cv2.MORPH_RECT, (18, 18)) \n",
    "  \n",
    "# Appplying some sort of dilation on the threshold image \n",
    "dilation = cv2.dilate(threshimg, rect_kernel, iterations = 1) \n",
    "  \n",
    "# getting contours ready for the image\n",
    "img_contours, hierarchy = cv2.findContours(dilation, cv2.RETR_EXTERNAL,  \n",
    "                                                 cv2.CHAIN_APPROX_NONE) "
   ]
  },
  {
   "cell_type": "markdown",
   "id": "9250a13b-6367-4f03-abb2-ada164102de4",
   "metadata": {},
   "source": [
    "<h3>Looping over the contours set and then extract the text from the Image into text file</h3>"
   ]
  },
  {
   "cell_type": "code",
   "execution_count": 67,
   "id": "3433de53-20cd-41ea-b6a9-c6b12fc99d12",
   "metadata": {},
   "outputs": [],
   "source": [
    "# Loop over contours and crop and extract the text file\n",
    "for cnt in img_contours: \n",
    "    x, y, w, h = cv2.boundingRect(cnt) \n",
    "      \n",
    "    # Drawing a rectangle\n",
    "    rect = cv2.rectangle(img, (x, y), (x + w, y + h), (0, 255, 0), 2) \n",
    "      \n",
    "    # Cropping the text block from the Image  \n",
    "    cropped_img = img[y:y + h, x:x + w] \n",
    "      \n",
    "    # Open the text file in append mode \n",
    "    file = open(\"recognized_text.txt\", \"a\") \n",
    "      \n",
    "    # Applying tesseract OCR on the cropped image \n",
    "    text = pytesseract.image_to_string(cropped_img) \n",
    "      \n",
    "    # Appending the text into file \n",
    "    file.write(text) \n",
    "    file.write(\"\\n\") \n",
    "      \n",
    "    # Close the file \n",
    "    file.close "
   ]
  },
  {
   "cell_type": "code",
   "execution_count": null,
   "id": "7275a565-266b-474c-8e99-485f6a108c0a",
   "metadata": {},
   "outputs": [],
   "source": []
  }
 ],
 "metadata": {
  "kernelspec": {
   "display_name": "Python 3",
   "language": "python",
   "name": "python3"
  },
  "language_info": {
   "codemirror_mode": {
    "name": "ipython",
    "version": 3
   },
   "file_extension": ".py",
   "mimetype": "text/x-python",
   "name": "python",
   "nbconvert_exporter": "python",
   "pygments_lexer": "ipython3",
   "version": "3.8.8"
  }
 },
 "nbformat": 4,
 "nbformat_minor": 5
}
